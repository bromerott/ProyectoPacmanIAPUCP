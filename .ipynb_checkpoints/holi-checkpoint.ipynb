{
 "cells": [
  {
   "cell_type": "markdown",
   "metadata": {},
   "source": [
    "# Part 1 (10 points): Automated SMS spam filtering"
   ]
  },
  {
   "cell_type": "code",
   "execution_count": 1,
   "metadata": {
    "collapsed": true
   },
   "outputs": [],
   "source": [
    "%matplotlib inline\n",
    "import matplotlib.pyplot as plt\n",
    "import csv\n",
    "import pandas\n",
    "import sklearn\n",
    "import numpy as np\n",
    "from sklearn.feature_extraction.text import TfidfVectorizer\n",
    "from sklearn.naive_bayes import MultinomialNB\n"
   ]
  },
  {
   "cell_type": "markdown",
   "metadata": {},
   "source": [
    "## Step 1: Load data, look around"
   ]
  },
  {
   "cell_type": "markdown",
   "metadata": {},
   "source": [
    "Skipping the *real* first step (fleshing out specs, finding out what is it we want to be doing -- often highly non-trivial in practice!), let's download the dataset we'll be using in this demo. Go to https://archive.ics.uci.edu/ml/datasets/SMS+Spam+Collection and download the zip file. Unzip it under `data` subdirectory. You should see a file called `SMSSpamCollection`, about 0.5MB in size:"
   ]
  },
  {
   "cell_type": "markdown",
   "metadata": {},
   "source": [
    "```bash\n",
    "$ ls -l data\n",
    "total 1352\n",
    "-rw-r--r--@ 1 kofola  staff  477907 Mar 15  2011 SMSSpamCollection\n",
    "-rw-r--r--@ 1 kofola  staff    5868 Apr 18  2011 readme\n",
    "-rw-r-----@ 1 kofola  staff  203415 Dec  1 15:30 smsspamcollection.zip\n",
    "```"
   ]
  },
  {
   "cell_type": "markdown",
   "metadata": {},
   "source": [
    "This file contains **a collection of more than 5 thousand SMS phone messages** (see the `readme` file for more info):"
   ]
  },
  {
   "cell_type": "code",
   "execution_count": 2,
   "metadata": {
    "collapsed": false
   },
   "outputs": [
    {
     "data": {
      "text/plain": [
       "5574"
      ]
     },
     "execution_count": 2,
     "metadata": {},
     "output_type": "execute_result"
    }
   ],
   "source": [
    "messages = [line.rstrip() for line in open('SMSSpamCollection.txt')]\n",
    "len(messages)"
   ]
  },
  {
   "cell_type": "markdown",
   "metadata": {},
   "source": [
    "A collection of texts is also sometimes called \"corpus\". Let's print the first ten messages in this SMS corpus:"
   ]
  },
  {
   "cell_type": "code",
   "execution_count": 3,
   "metadata": {
    "collapsed": false
   },
   "outputs": [
    {
     "name": "stdout",
     "output_type": "stream",
     "text": [
      "(0, 'ham\\tGo until jurong point, crazy.. Available only in bugis n great world la e buffet... Cine there got amore wat...')\n",
      "(1, 'ham\\tOk lar... Joking wif u oni...')\n",
      "(2, \"spam\\tFree entry in 2 a wkly comp to win FA Cup final tkts 21st May 2005. Text FA to 87121 to receive entry question(std txt rate)T&C's apply 08452810075over18's\")\n",
      "(3, 'ham\\tU dun say so early hor... U c already then say...')\n",
      "(4, \"ham\\tNah I don't think he goes to usf, he lives around here though\")\n",
      "(5, \"spam\\tFreeMsg Hey there darling it's been 3 week's now and no word back! I'd like some fun you up for it still? Tb ok! XxX std chgs to send, \\xc2\\xa31.50 to rcv\")\n",
      "(6, 'ham\\tEven my brother is not like to speak with me. They treat me like aids patent.')\n",
      "(7, \"ham\\tAs per your request 'Melle Melle (Oru Minnaminunginte Nurungu Vettam)' has been set as your callertune for all Callers. Press *9 to copy your friends Callertune\")\n",
      "(8, 'spam\\tWINNER!! As a valued network customer you have been selected to receivea \\xc2\\xa3900 prize reward! To claim call 09061701461. Claim code KL341. Valid 12 hours only.')\n",
      "(9, 'spam\\tHad your mobile 11 months or more? U R entitled to Update to the latest colour mobiles with camera for Free! Call The Mobile Update Co FREE on 08002986030')\n"
     ]
    }
   ],
   "source": [
    "for message_no, message in enumerate(messages[:10]):\n",
    "    print (message_no, message)"
   ]
  },
  {
   "cell_type": "markdown",
   "metadata": {},
   "source": [
    "We see that this is a [TSV](http://en.wikipedia.org/wiki/Tab-separated_values) (\"tab separated values\") file, where the first column is a label saying whether the given message is a normal message (\"ham\") or \"spam\". The second column is the message itself.\n",
    "\n",
    "This corpus will be our labeled training set. Using these ham/spam examples, we'll **train a machine learning model to learn to discriminate between ham/spam automatically**. Then, with a trained model, we'll be able to **classify arbitrary unlabeled messages** as ham or spam."
   ]
  },
  {
   "cell_type": "markdown",
   "metadata": {},
   "source": [
    "[![](http://radimrehurek.com/data_science_python/plot_ML_flow_chart_11.png)](http://www.astroml.org/sklearn_tutorial/general_concepts.html#supervised-learning-model-fit-x-y)"
   ]
  },
  {
   "cell_type": "markdown",
   "metadata": {},
   "source": [
    "Instead of parsing TSV (or CSV, or Excel...) files by hand, we can use Python's `pandas` library to do the work for us:"
   ]
  },
  {
   "cell_type": "code",
   "execution_count": 4,
   "metadata": {
    "collapsed": false
   },
   "outputs": [
    {
     "name": "stdout",
     "output_type": "stream",
     "text": [
      "     label                                            message\n",
      "0      ham  Go until jurong point, crazy.. Available only ...\n",
      "1      ham                      Ok lar... Joking wif u oni...\n",
      "2     spam  Free entry in 2 a wkly comp to win FA Cup fina...\n",
      "3      ham  U dun say so early hor... U c already then say...\n",
      "4      ham  Nah I don't think he goes to usf, he lives aro...\n",
      "5     spam  FreeMsg Hey there darling it's been 3 week's n...\n",
      "6      ham  Even my brother is not like to speak with me. ...\n",
      "7      ham  As per your request 'Melle Melle (Oru Minnamin...\n",
      "8     spam  WINNER!! As a valued network customer you have...\n",
      "9     spam  Had your mobile 11 months or more? U R entitle...\n",
      "10     ham  I'm gonna be home soon and i don't want to tal...\n",
      "11    spam  SIX chances to win CASH! From 100 to 20,000 po...\n",
      "12    spam  URGENT! You have won a 1 week FREE membership ...\n",
      "13     ham  I've been searching for the right words to tha...\n",
      "14     ham                I HAVE A DATE ON SUNDAY WITH WILL!!\n",
      "15    spam  XXXMobileMovieClub: To use your credit, click ...\n",
      "16     ham                         Oh k...i'm watching here:)\n",
      "17     ham  Eh u remember how 2 spell his name... Yes i di...\n",
      "18     ham  Fine if thats the way u feel. Thats the way ...\n",
      "19    spam  England v Macedonia - dont miss the goals/team...\n",
      "20     ham          Is that seriously how you spell his name?\n",
      "21     ham    I‘m going to try for 2 months ha ha only joking\n",
      "22     ham  So ü pay first lar... Then when is da stock co...\n",
      "23     ham  Aft i finish my lunch then i go str down lor. ...\n",
      "24     ham  Ffffffffff. Alright no way I can meet up with ...\n",
      "25     ham  Just forced myself to eat a slice. I'm really ...\n",
      "26     ham                     Lol your always so convincing.\n",
      "27     ham  Did you catch the bus ? Are you frying an egg ...\n",
      "28     ham  I'm back &amp; we're packing the car now, I'll...\n",
      "29     ham  Ahhh. Work. I vaguely remember that! What does...\n",
      "...    ...                                                ...\n",
      "5544   ham           Armand says get your ass over to epsilon\n",
      "5545   ham             U still havent got urself a jacket ah?\n",
      "5546   ham  I'm taking derek &amp; taylor to walmart, if I...\n",
      "5547   ham      Hi its in durban are you still on this number\n",
      "5548   ham         Ic. There are a lotta childporn cars then.\n",
      "5549  spam  Had your contract mobile 11 Mnths? Latest Moto...\n",
      "5550   ham                 No, I was trying it all weekend ;V\n",
      "5551   ham  You know, wot people wear. T shirts, jumpers, ...\n",
      "5552   ham        Cool, what time you think you can get here?\n",
      "5553   ham  Wen did you get so spiritual and deep. That's ...\n",
      "5554   ham  Have a safe trip to Nigeria. Wish you happines...\n",
      "5555   ham                        Hahaha..use your brain dear\n",
      "5556   ham  Well keep in mind I've only got enough gas for...\n",
      "5557   ham  Yeh. Indians was nice. Tho it did kane me off ...\n",
      "5558   ham  Yes i have. So that's why u texted. Pshew...mi...\n",
      "5559   ham  No. I meant the calculation is the same. That ...\n",
      "5560   ham                             Sorry, I'll call later\n",
      "5561   ham  if you aren't here in the next  &lt;#&gt;  hou...\n",
      "5562   ham                  Anything lor. Juz both of us lor.\n",
      "5563   ham  Get me out of this dump heap. My mom decided t...\n",
      "5564   ham  Ok lor... Sony ericsson salesman... I ask shuh...\n",
      "5565   ham                                Ard 6 like dat lor.\n",
      "5566   ham  Why don't you wait 'til at least wednesday to ...\n",
      "5567   ham                                       Huh y lei...\n",
      "5568  spam  REMINDER FROM O2: To get 2.50 pounds free call...\n",
      "5569  spam  This is the 2nd time we have tried 2 contact u...\n",
      "5570   ham               Will ü b going to esplanade fr home?\n",
      "5571   ham  Pity, * was in mood for that. So...any other s...\n",
      "5572   ham  The guy did some bitching but I acted like i'd...\n",
      "5573   ham                         Rofl. Its true to its name\n",
      "\n",
      "[5574 rows x 2 columns]\n"
     ]
    }
   ],
   "source": [
    "messages = pandas.read_csv('SMSSpamCollection.txt', sep='\\t', quoting=csv.QUOTE_NONE,\n",
    "                           names=[\"label\", \"message\"])\n",
    "print (messages)"
   ]
  },
  {
   "cell_type": "markdown",
   "metadata": {},
   "source": [
    "With `pandas`, we can also view aggregate statistics easily:"
   ]
  },
  {
   "cell_type": "code",
   "execution_count": 5,
   "metadata": {
    "collapsed": false
   },
   "outputs": [
    {
     "data": {
      "text/html": [
       "<div>\n",
       "<table border=\"1\" class=\"dataframe\">\n",
       "  <thead>\n",
       "    <tr style=\"text-align: right;\">\n",
       "      <th></th>\n",
       "      <th></th>\n",
       "      <th>message</th>\n",
       "    </tr>\n",
       "    <tr>\n",
       "      <th>label</th>\n",
       "      <th></th>\n",
       "      <th></th>\n",
       "    </tr>\n",
       "  </thead>\n",
       "  <tbody>\n",
       "    <tr>\n",
       "      <th rowspan=\"4\" valign=\"top\">ham</th>\n",
       "      <th>count</th>\n",
       "      <td>4827</td>\n",
       "    </tr>\n",
       "    <tr>\n",
       "      <th>unique</th>\n",
       "      <td>4518</td>\n",
       "    </tr>\n",
       "    <tr>\n",
       "      <th>top</th>\n",
       "      <td>Sorry, I'll call later</td>\n",
       "    </tr>\n",
       "    <tr>\n",
       "      <th>freq</th>\n",
       "      <td>30</td>\n",
       "    </tr>\n",
       "    <tr>\n",
       "      <th rowspan=\"4\" valign=\"top\">spam</th>\n",
       "      <th>count</th>\n",
       "      <td>747</td>\n",
       "    </tr>\n",
       "    <tr>\n",
       "      <th>unique</th>\n",
       "      <td>653</td>\n",
       "    </tr>\n",
       "    <tr>\n",
       "      <th>top</th>\n",
       "      <td>Please call our customer service representativ...</td>\n",
       "    </tr>\n",
       "    <tr>\n",
       "      <th>freq</th>\n",
       "      <td>4</td>\n",
       "    </tr>\n",
       "  </tbody>\n",
       "</table>\n",
       "</div>"
      ],
      "text/plain": [
       "                                                        message\n",
       "label                                                          \n",
       "ham   count                                                4827\n",
       "      unique                                               4518\n",
       "      top                                Sorry, I'll call later\n",
       "      freq                                                   30\n",
       "spam  count                                                 747\n",
       "      unique                                                653\n",
       "      top     Please call our customer service representativ...\n",
       "      freq                                                    4"
      ]
     },
     "execution_count": 5,
     "metadata": {},
     "output_type": "execute_result"
    }
   ],
   "source": [
    "messages.groupby('label').describe()"
   ]
  },
  {
   "cell_type": "markdown",
   "metadata": {},
   "source": [
    "How long are the messages?"
   ]
  },
  {
   "cell_type": "code",
   "execution_count": 6,
   "metadata": {
    "collapsed": false
   },
   "outputs": [
    {
     "name": "stdout",
     "output_type": "stream",
     "text": [
      "  label                                            message  length\n",
      "0   ham  Go until jurong point, crazy.. Available only ...     111\n",
      "1   ham                      Ok lar... Joking wif u oni...      29\n",
      "2  spam  Free entry in 2 a wkly comp to win FA Cup fina...     155\n",
      "3   ham  U dun say so early hor... U c already then say...      49\n",
      "4   ham  Nah I don't think he goes to usf, he lives aro...      61\n"
     ]
    }
   ],
   "source": [
    "messages['length'] = messages['message'].map(lambda text: len(text))\n",
    "print (messages.head())"
   ]
  },
  {
   "cell_type": "code",
   "execution_count": 7,
   "metadata": {
    "collapsed": false
   },
   "outputs": [
    {
     "data": {
      "image/png": "[encoded data removed]",
      "text/plain": [
       "<matplotlib.figure.Figure at 0x7feb13c69510>"
      ]
     },
     "metadata": {},
     "output_type": "display_data"
    }
   ],
   "source": [
    "messages.length.plot(bins=20, kind='hist');"
   ]
  },
  {
   "cell_type": "code",
   "execution_count": 8,
   "metadata": {
    "collapsed": false
   },
   "outputs": [
    {
     "data": {
      "text/plain": [
       "count    5574.000000\n",
       "mean       80.604593\n",
       "std        59.919970\n",
       "min         2.000000\n",
       "25%        36.000000\n",
       "50%        62.000000\n",
       "75%       122.000000\n",
       "max       910.000000\n",
       "Name: length, dtype: float64"
      ]
     },
     "execution_count": 8,
     "metadata": {},
     "output_type": "execute_result"
    }
   ],
   "source": [
    "messages.length.describe()"
   ]
  },
  {
   "cell_type": "markdown",
   "metadata": {},
   "source": [
    "What is that super long message?"
   ]
  },
  {
   "cell_type": "code",
   "execution_count": 9,
   "metadata": {
    "collapsed": false
   },
   "outputs": [
    {
     "name": "stdout",
     "output_type": "stream",
     "text": [
      "[\"For me the love should start with attraction.i should feel that I need her every time around me.she should be the first thing which comes in my thoughts.I would start the day and end it with her.she should be there every time I dream.love will be then when my every breath has her name.my life should happen around her.my life will be named to her.I would cry for her.will give all my happiness and take all her sorrows.I will be ready to fight with anyone for her.I will be in love when I will be doing the craziest things for her.love will be when I don't have to proove anyone that my girl is the most beautiful lady on the whole planet.I will always be singing praises for her.love will be when I start up making chicken curry and end up makiing sambar.life will be the most beautiful then.will get every morning and thank god for the day because she is with me.I would like to say a lot..will tell later..\"]\n"
     ]
    }
   ],
   "source": [
    "print (list(messages.message[messages.length > 900]))"
   ]
  },
  {
   "cell_type": "code",
   "execution_count": 10,
   "metadata": {
    "collapsed": false
   },
   "outputs": [
    {
     "name": "stdout",
     "output_type": "stream",
     "text": [
      "[1085]\n"
     ]
    }
   ],
   "source": [
    "print (list(messages[messages.length > 900].index))"
   ]
  },
  {
   "cell_type": "markdown",
   "metadata": {},
   "source": [
    "Is there any difference in message length between spam and ham?"
   ]
  },
  {
   "cell_type": "code",
   "execution_count": 11,
   "metadata": {
    "collapsed": false
   },
   "outputs": [
    {
     "data": {
      "image/png": "[encoded data removed]",
      "text/plain": [
       "<matplotlib.figure.Figure at 0x7feb13982910>"
      ]
     },
     "metadata": {},
     "output_type": "display_data"
    }
   ],
   "source": [
    "messages.hist(column='length', by='label', bins=50, figsize=(12,4));"
   ]
  },
  {
   "cell_type": "markdown",
   "metadata": {},
   "source": [
    "Good fun, but how do we make computer understand the plain text messages themselves? Or can it under such malformed gibberish at all?"
   ]
  },
  {
   "cell_type": "markdown",
   "metadata": {},
   "source": [
    "## Step 2: Data to vectors"
   ]
  },
  {
   "cell_type": "markdown",
   "metadata": {},
   "source": [
    "Now we'll convert each message, represented as a list of tokens (lemmas) above, into a vector that machine learning models can understand.\n",
    "\n",
    "Doing that requires essentially three steps, in the bag-of-words model:\n",
    "\n",
    "1. counting how many times does a word occur in each message (term frequency)\n",
    "2. weighting the counts, so that frequent tokens get lower weight (inverse document frequency)\n",
    "3. normalizing the vectors to unit length, to abstract from the original text length (L2 norm)"
   ]
  },
  {
   "cell_type": "markdown",
   "metadata": {},
   "source": [
    "Each vector has as many dimensions as there are unique words in the SMS corpus.\n",
    "\n",
    "To transform the entire bag-of-words corpus into TF-IDF corpus at once:"
   ]
  },
  {
   "cell_type": "code",
   "execution_count": 12,
   "metadata": {
    "collapsed": false
   },
   "outputs": [
    {
     "name": "stdout",
     "output_type": "stream",
     "text": [
      "(5574, 8713)\n"
     ]
    }
   ],
   "source": [
    "vectorizer = TfidfVectorizer()\n",
    "sms_tfidf = vectorizer.fit_transform(messages['message'].values)\n",
    "\n",
    "print(sms_tfidf.shape)"
   ]
  },
  {
   "cell_type": "markdown",
   "metadata": {},
   "source": [
    "#### Question 1 (02 points): You must to analyze the new dataset and explain (a)its structure and (b) the meaning of the values.\n",
    "El nuevo dataset esta estructurado en una matriz de correspondencia de una tupla (n,t) a un valor f(n,t).\n",
    "Donde n es el numero del mensaje en el dataset, t es el numero asignado a alguna palabra, y f(n,t) es el TF-IDF calculado a partir de n y t.\n",
    "\n",
    "Asi, sms_tfidf.shape nos dice que hay 5574 mensajes, en los cuales hay 8713 diferentes palabras."
   ]
  },
  {
   "cell_type": "markdown",
   "metadata": {},
   "source": [
    "## Step 3: Training a model, detecting spam"
   ]
  },
  {
   "cell_type": "markdown",
   "metadata": {},
   "source": [
    "With messages represented as vectors, we can finally train our spam/ham classifier. This part is pretty straightforward, and there are many libraries that realize the training algorithms.\n",
    "The library sklearn.naive_bayes includes implementations of three Naïve Bayes classifiers\n",
    "- GaussianNB\n",
    "- MultinomialNB \n",
    "- BernoulliNB\n",
    "\n",
    "#### Question 2 (02 points): We will use MultinomialNB, why? \n",
    "\n",
    "Esto es debido a que el clasificador Multinomial es adecuado para valores discretos, como la cuenta de palabaras en un documento. Aunque utilizaremos un valor discreto (TF-IDF), este sigue resultando ser el más adecuado."
   ]
  },
  {
   "cell_type": "markdown",
   "metadata": {},
   "source": [
    "#### Question 3 (02 points): When are used the other two NB versions? \n",
    "El clasificador Gausiano es utilizado cuando podemos asumir que la distribucion de probabilidad es normal.\n",
    "Por otro lado, el clasificador Bernoulli es utilizado cuando se trabaja con valores booleanos como determinantes de nuestro algoritmo. (en este caso, TF-IDF no es booleano, sino continuo)."
   ]
  },
  {
   "cell_type": "code",
   "execution_count": 13,
   "metadata": {
    "collapsed": false
   },
   "outputs": [
    {
     "name": "stderr",
     "output_type": "stream",
     "text": [
      "/opt/anaconda2/lib/python2.7/site-packages/sklearn/naive_bayes.py:699: RuntimeWarning: divide by zero encountered in log\n",
      "  self.feature_log_prob_ = (np.log(smoothed_fc) -\n"
     ]
    }
   ],
   "source": [
    "classifier1 = MultinomialNB()\n",
    "targets = messages['label'].values\n",
    "clf1 = classifier1.fit(sms_tfidf, targets)\n",
    "classifier2 = MultinomialNB(0,True,None)\n",
    "clf2 = classifier2.fit(sms_tfidf, targets)\n",
    "classifier3 = MultinomialNB(1.0,False,None)\n",
    "clf3 = classifier3.fit(sms_tfidf, targets)"
   ]
  },
  {
   "cell_type": "markdown",
   "metadata": {},
   "source": [
    "Let's try classifying our single random message:"
   ]
  },
  {
   "cell_type": "code",
   "execution_count": 17,
   "metadata": {
    "collapsed": false
   },
   "outputs": [
    {
     "name": "stdout",
     "output_type": "stream",
     "text": [
      "  (0, 8668)\t0.266612317206\n",
      "  (0, 8523)\t0.5989041276\n",
      "  (0, 6113)\t0.613303401608\n",
      "  (0, 4376)\t0.440557210626\n"
     ]
    }
   ],
   "source": [
    "examples = ['You just won a prize!']\n",
    "example_vector = vectorizer.transform(examples)\n",
    "predictions = classifier2.predict(example_vector)\n",
    "\n",
    "print(example_vector)"
   ]
  },
  {
   "cell_type": "markdown",
   "metadata": {},
   "source": [
    "Hooray! You can try it with your own texts, too.\n",
    "\n",
    "A natural question is to ask, how many messages do we classify correctly overall?"
   ]
  },
  {
   "cell_type": "code",
   "execution_count": 77,
   "metadata": {
    "collapsed": false
   },
   "outputs": [
    {
     "name": "stdout",
     "output_type": "stream",
     "text": [
      "Accuracy: 0.9761\n",
      "\n",
      "Confusion matrix:\n",
      "      0    1\n",
      "0  4827    0\n",
      "1   133  614\n",
      "\n",
      "             precision    recall  f1-score   support\n",
      "\n",
      "        ham       0.97      1.00      0.99      4827\n",
      "       spam       1.00      0.82      0.90       747\n",
      "\n",
      "avg / total       0.98      0.98      0.98      5574\n",
      "\n",
      "Accuracy: 0.9998\n",
      "\n",
      "Confusion matrix:\n",
      "      0    1\n",
      "0  4827    0\n",
      "1     1  746\n",
      "\n",
      "             precision    recall  f1-score   support\n",
      "\n",
      "        ham       1.00      1.00      1.00      4827\n",
      "       spam       1.00      1.00      1.00       747\n",
      "\n",
      "avg / total       1.00      1.00      1.00      5574\n",
      "\n",
      "Accuracy: 0.9840\n",
      "\n",
      "Confusion matrix:\n",
      "      0    1\n",
      "0  4772   55\n",
      "1    34  713\n",
      "\n",
      "             precision    recall  f1-score   support\n",
      "\n",
      "        ham       0.99      0.99      0.99      4827\n",
      "       spam       0.93      0.95      0.94       747\n",
      "\n",
      "avg / total       0.98      0.98      0.98      5574\n",
      "\n"
     ]
    }
   ],
   "source": [
    "from sklearn.metrics import classification_report, accuracy_score, confusion_matrix\n",
    "\n",
    "all_predictions = clf1.predict(sms_tfidf)\n",
    "accuracy = accuracy_score(messages['label'], all_predictions)\n",
    "cm = confusion_matrix(messages['label'], all_predictions)\n",
    "statistics = classification_report(messages['label'], all_predictions)\n",
    "\n",
    "print('Accuracy: %.4f\\n' % accuracy)\n",
    "print('Confusion matrix:\\n%s\\n' % pandas.DataFrame(cm))\n",
    "print(statistics)\n",
    "\n",
    "all_predictions = clf2.predict(sms_tfidf)\n",
    "accuracy = accuracy_score(messages['label'], all_predictions)\n",
    "cm = confusion_matrix(messages['label'], all_predictions)\n",
    "statistics = classification_report(messages['label'], all_predictions)\n",
    "\n",
    "print('Accuracy: %.4f\\n' % accuracy)\n",
    "print('Confusion matrix:\\n%s\\n' % pandas.DataFrame(cm))\n",
    "print(statistics)\n",
    "\n",
    "all_predictions = clf3.predict(sms_tfidf)\n",
    "accuracy = accuracy_score(messages['label'], all_predictions)\n",
    "cm = confusion_matrix(messages['label'], all_predictions)\n",
    "statistics = classification_report(messages['label'], all_predictions)\n",
    "\n",
    "print('Accuracy: %.4f\\n' % accuracy)\n",
    "print('Confusion matrix:\\n%s\\n' % pandas.DataFrame(cm))\n",
    "print(statistics)"
   ]
  },
  {
   "cell_type": "markdown",
   "metadata": {},
   "source": [
    "#### Question 4 (02 points): By default, MultinomialNB uses the Additive Laplace smoothing. Change the classifier to work without smoothing. Explain new results comparing with the default version.\n",
    "\n",
    "El clasificador sin Suavizado de Laplace resulta tener un Accuracy mayor (0.9998 en comparación de 0.9761).\n",
    "Esto es debido a que no estamos trabajando con un nuevo dataset para testar nuestra data. Envés, estamos utilizando el mismo dataset que usamos para entrenar al algoritmo para testearlo.\n",
    "\n",
    "Esto significa que no existirán nuevas palabras encontradas cuando exploremos nuestro test_dataset.\n",
    "La suavización de Laplace es utilizada para no dividir entre 0 cuando se encuentra una nueva palabra.\n",
    "\n",
    "De esta manera, al utilizar la suavizacion aditiva, estamos suavizando nuestros datos (perdiendo diferenciacion entre ellos) a cambio de ninguna ganancia."
   ]
  },
  {
   "cell_type": "markdown",
   "metadata": {},
   "source": [
    "#### Question 5 (02 points): How are computed the prior probabilities, with default parameters? Change the classifier to work with uniform prior probabilities. Explain new results comparing with the default version.\n",
    "Con parametros por default, las probabilidades a priori son calculadas. En la ultima ejecucion (classifier3), las probabilidades a priori fueron uniformes para cada dato.\n",
    "\n",
    "En comparacion con classfier1, este cambio aumenta el Accuracy. Esto es debido a que un calculo a priori de las probabilidades de cada clase depende que nuestros datos sigan algun tipo de distribucion fija. Sin embargo, como este no es el caso, es mejor no utilizar probabilidades a priori."
   ]
  },
  {
   "cell_type": "markdown",
   "metadata": {},
   "source": [
    "# Part 2 (10 points): Automated mail spam detection\n",
    "\n",
    "* Repeat all previous stept, this time using a more complex corpus: mails dataset. Go to  http://www.aueb.gr/users/ion/data/enron-spam/ and download the Enron4 file, which is composed of two directories (ham and spam). You must to create the mail-class matrix in order to classify ham and spam mails, following the same steps of sms spam problem."
   ]
  },
  {
   "cell_type": "code",
   "execution_count": 108,
   "metadata": {
    "collapsed": false
   },
   "outputs": [
    {
     "data": {
      "text/plain": [
       "'asd xx'"
      ]
     },
     "execution_count": 108,
     "metadata": {},
     "output_type": "execute_result"
    }
   ],
   "source": [
    "\"\".join([\"asd\", \" xx\"])"
   ]
  },
  {
   "cell_type": "code",
   "execution_count": 127,
   "metadata": {
    "collapsed": false
   },
   "outputs": [],
   "source": [
    "import os\n",
    "import codecs\n",
    "import numpy as np\n",
    "import pandas as pd\n",
    "\n",
    "ham_folder = 'enron4/ham/'\n",
    "spam_folder = 'enron4/spam/'\n",
    "\n",
    "ham_files = [os.path.join(ham_folder, f) for f in os.listdir(ham_folder)]\n",
    "spam_files = [os.path.join(spam_folder, f) for f in os.listdir(spam_folder)]\n",
    "\n",
    "# Para abrir los files se necesita un encoding especial:\n",
    "##open(ham_files[3], encoding='iso-8859-7')\n",
    "\n",
    "##Crear nuestro directorio gigante de mensajes con spam y con ham\n",
    "mensajes=[]\n",
    "for archivo in ham_files:\n",
    "    doc=[]\n",
    "    for linea in codecs.open(archivo, encoding='iso-8859-7'):\n",
    "        doc= doc + list(linea.rstrip())\n",
    "\n",
    "    doc= \"\".join(doc)\n",
    "    mensajes.append(doc)\n",
    "for archivo in spam_files:\n",
    "    doc=[]\n",
    "    for linea in codecs.open(archivo, encoding='iso-8859-7'):\n",
    "        doc= doc + list(linea.rstrip())\n",
    "\n",
    "    doc= \"\".join(doc)\n",
    "    mensajes.append(doc)\n",
    "##Crear un arreglo dondo los 1500 primeros son ham y 4500 son spam\n",
    "labels=[]\n",
    "for _ in range(1500):\n",
    "    labels.append(\"ham\");\n",
    "for _ in range(4500):\n",
    "    labels.append(\"spam\");"
   ]
  },
  {
   "cell_type": "code",
   "execution_count": 128,
   "metadata": {
    "collapsed": false
   },
   "outputs": [
    {
     "name": "stdout",
     "output_type": "stream",
     "text": [
      "(6000, 95038)\n"
     ]
    }
   ],
   "source": [
    "#Datos a vectores\n",
    "vectorizer = TfidfVectorizer()\n",
    "sms_tfidf = vectorizer.fit_transform(mensajes)\n",
    "print(sms_tfidf.shape)"
   ]
  },
  {
   "cell_type": "code",
   "execution_count": 129,
   "metadata": {
    "collapsed": true
   },
   "outputs": [],
   "source": [
    "#Entrar modelo usando clasificador multinomial sin suavizacion, dado que lo probaremos en el mismo dataset con el que\n",
    "#lo entrenaremos\n",
    "targets = labels\n",
    "classifier = MultinomialNB(0,True,None)\n",
    "clf = classifier.fit(sms_tfidf, targets)"
   ]
  },
  {
   "cell_type": "code",
   "execution_count": 1,
   "metadata": {
    "collapsed": false
   },
   "outputs": [
    {
     "ename": "NameError",
     "evalue": "name 'vectorizer' is not defined",
     "output_type": "error",
     "traceback": [
      "\u001b[0;31m---------------------------------------------------------------------------\u001b[0m",
      "\u001b[0;31mNameError\u001b[0m                                 Traceback (most recent call last)",
      "\u001b[0;32m<ipython-input-1-a44e0e2c7e0c>\u001b[0m in \u001b[0;36m<module>\u001b[0;34m()\u001b[0m\n\u001b[1;32m      1\u001b[0m \u001b[0;31m#Probar modelo con ejemplitos\u001b[0m\u001b[0;34m\u001b[0m\u001b[0;34m\u001b[0m\u001b[0m\n\u001b[1;32m      2\u001b[0m \u001b[0mexamples\u001b[0m \u001b[0;34m=\u001b[0m \u001b[0;34m[\u001b[0m\u001b[0;34m'You just won a prize!'\u001b[0m\u001b[0;34m]\u001b[0m\u001b[0;34m\u001b[0m\u001b[0m\n\u001b[0;32m----> 3\u001b[0;31m \u001b[0mexample_vector\u001b[0m \u001b[0;34m=\u001b[0m \u001b[0mvectorizer\u001b[0m\u001b[0;34m.\u001b[0m\u001b[0mtransform\u001b[0m\u001b[0;34m(\u001b[0m\u001b[0mexamples\u001b[0m\u001b[0;34m)\u001b[0m\u001b[0;34m\u001b[0m\u001b[0m\n\u001b[0m\u001b[1;32m      4\u001b[0m \u001b[0mpredictions\u001b[0m \u001b[0;34m=\u001b[0m \u001b[0mclassifier\u001b[0m\u001b[0;34m.\u001b[0m\u001b[0mpredict\u001b[0m\u001b[0;34m(\u001b[0m\u001b[0mexample_vector\u001b[0m\u001b[0;34m)\u001b[0m\u001b[0;34m\u001b[0m\u001b[0m\n\u001b[1;32m      5\u001b[0m \u001b[0;34m\u001b[0m\u001b[0m\n",
      "\u001b[0;31mNameError\u001b[0m: name 'vectorizer' is not defined"
     ]
    }
   ],
   "source": [
    "#Probar modelo con ejemplitos\n",
    "examples = ['You just won a prize!']\n",
    "example_vector = vectorizer.transform(examples)\n",
    "predictions = classifier.predict(example_vector)\n",
    "\n",
    "print(example_vector)"
   ]
  },
  {
   "cell_type": "code",
   "execution_count": 132,
   "metadata": {
    "collapsed": false
   },
   "outputs": [
    {
     "name": "stdout",
     "output_type": "stream",
     "text": [
      "Accuracy: 0.9995\n",
      "\n",
      "Confusion matrix:\n",
      "      0     1\n",
      "0  1500     0\n",
      "1     3  4497\n",
      "\n",
      "             precision    recall  f1-score   support\n",
      "\n",
      "        ham       1.00      1.00      1.00      1500\n",
      "       spam       1.00      1.00      1.00      4500\n",
      "\n",
      "avg / total       1.00      1.00      1.00      6000\n",
      "\n"
     ]
    }
   ],
   "source": [
    "#Conseguir data del algoritmo, probandolo en el mismo dataset\n",
    "from sklearn.metrics import classification_report, accuracy_score, confusion_matrix\n",
    "\n",
    "all_predictions = clf.predict(sms_tfidf)\n",
    "accuracy = accuracy_score(labels, all_predictions)\n",
    "cm = confusion_matrix(labels, all_predictions)\n",
    "statistics = classification_report(labels, all_predictions)\n",
    "\n",
    "print('Accuracy: %.4f\\n' % accuracy)\n",
    "print('Confusion matrix:\\n%s\\n' % pandas.DataFrame(cm))\n",
    "print(statistics)"
   ]
  },
  {
   "cell_type": "raw",
   "metadata": {},
   "source": [
    "Accuracy: 0.9395\n",
    "\n",
    "Confusion matrix:\n",
    "       0       1\n",
    "0  14414    6305\n",
    "1   1078  100292\n",
    "\n",
    "             precision    recall  f1-score   support\n",
    "\n",
    "        ham       0.93      0.70      0.80     20719\n",
    "       spam       0.94      0.99      0.96    101370\n",
    "\n",
    "avg / total       0.94      0.94      0.94    122089"
   ]
  }
 ],
 "metadata": {
  "anaconda-cloud": {},
  "kernelspec": {
   "display_name": "Python 2",
   "language": "python",
   "name": "python2"
  },
  "language_info": {
   "codemirror_mode": {
    "name": "ipython",
    "version": 2
   },
   "file_extension": ".py",
   "mimetype": "text/x-python",
   "name": "python",
   "nbconvert_exporter": "python",
   "pygments_lexer": "ipython2",
   "version": "2.7.13"
  }
 },
 "nbformat": 4,
 "nbformat_minor": 1
}
